{
 "cells": [
  {
   "cell_type": "code",
   "execution_count": 1,
   "metadata": {},
   "outputs": [
    {
     "data": {
      "text/html": [
       "<script>requirejs.config({paths: { 'plotly': ['https://cdn.plot.ly/plotly-latest.min']},});if(!window.Plotly) {{require(['plotly'],function(plotly) {window.Plotly=plotly;});}}</script>"
      ],
      "text/vnd.plotly.v1+html": [
       "<script>requirejs.config({paths: { 'plotly': ['https://cdn.plot.ly/plotly-latest.min']},});if(!window.Plotly) {{require(['plotly'],function(plotly) {window.Plotly=plotly;});}}</script>"
      ]
     },
     "metadata": {},
     "output_type": "display_data"
    }
   ],
   "source": [
    "# Learn about API authentication here: https://plot.ly/pandas/getting-started\n",
    "# Find your api_key here: https://plot.ly/settings/api\n",
    "\n",
    "import plotly.graph_objs as go\n",
    "# import plotly.plotly as py\n",
    "\n",
    "import plotly.offline as py\n",
    "py.init_notebook_mode(connected=True)\n",
    "\n",
    "# from IPython import display\n",
    "import pandas as pd\n",
    "import numpy as np\n",
    "import ipywidgets as widgets\n",
    "import yaml\n",
    "import os"
   ]
  },
  {
   "cell_type": "code",
   "execution_count": 2,
   "metadata": {},
   "outputs": [],
   "source": [
    "# # loading in DataFrame\n",
    "# # global fullDF\n",
    "# fullDF = pd.read_msgpack('counts_output_dataframe_old.mpz')\n",
    "# # fullDF = fullDF[fullDF['day'] > 4*365]  # removing burn-in time"
   ]
  },
  {
   "cell_type": "code",
   "execution_count": 3,
   "metadata": {},
   "outputs": [
    {
     "data": {
      "text/plain": [
       "Index([                 'index',               b'CHRONIC',\n",
       "                       b'CLEAR',             b'COLONIZED',\n",
       "                    b'INFECTED',             b'RECOVERED',\n",
       "              b'UNDETCOLONIZED',                b'abbrev',\n",
       "                         b'day',                  b'tier',\n",
       "                  b'swabCPDays',           b'otherCPDays',\n",
       "                  b'xdroCPDays', b'contactPrecautionDays',\n",
       "                    b'arrivals',           b'creArrivals',\n",
       "         b'creBundlesHandedOut',          b'newColonized',\n",
       "             b'newPatientsOnCP',         b'passiveCPDays',\n",
       "                b'creSwabsUsed',        b'xdroAdmissions',\n",
       "                          'run'],\n",
       "      dtype='object')"
      ]
     },
     "execution_count": 3,
     "metadata": {},
     "output_type": "execute_result"
    }
   ],
   "source": [
    "dataDir = '../input_data/'\n",
    "\n",
    "mpzNotes = [\n",
    "#     'Chi_xdro_5y_3y_capped_1_2_capture_100_search_100_add_100_proc_0_tbl_dataframe.mpz',\n",
    " 'Chi_xdro_5y_3y_capped_1_2_capture_100_search_100_add_100_proc_10_tbl_dataframe.mpz',\n",
    " 'Chi_xdro_5y_3y_capped_1_2_capture_100_search_100_add_100_proc_1_tbl_dataframe.mpz',\n",
    "#  'Chi_xdro_5y_3y_capped_1_2_capture_100_search_100_add_100_proc_200_tbl_dataframe.mpz',\n",
    "#  'Chi_xdro_5y_3y_capped_1_2_capture_100_search_100_add_100_proc_201_tbl_dataframe.mpz',\n",
    "#  'Chi_xdro_5y_3y_capped_1_2_capture_100_search_100_add_100_proc_202_tbl_dataframe.mpz',\n",
    "#  'Chi_xdro_5y_3y_capped_1_2_capture_100_search_100_add_100_proc_203_tbl_dataframe.mpz',\n",
    "#  'Chi_xdro_5y_3y_capped_1_2_capture_100_search_100_add_100_proc_204_tbl_dataframe.mpz',\n",
    "#  'Chi_xdro_5y_3y_capped_1_2_capture_100_search_100_add_100_proc_205_tbl_dataframe.mpz',\n",
    "#  'Chi_xdro_5y_3y_capped_1_2_capture_100_search_100_add_100_proc_206_tbl_dataframe.mpz',\n",
    "           ]\n",
    "\n",
    "totalStats = []\n",
    "for mFname in mpzNotes:\n",
    "           totalStats.append(pd.read_msgpack(dataDir + mFname))\n",
    "tsDFL = []\n",
    "for idx, df in enumerate(totalStats):\n",
    "    df['run'] = idx\n",
    "#     print(df.drop([b'index',b'run'],axis=1).columns)\n",
    "    tsDFL.append(df.drop([b'index',b'run'],axis=1))\n",
    "fullDF = pd.concat(tsDFL).reset_index()\n",
    "tsDFL = []\n",
    "fullDF.columns"
   ]
  },
  {
   "cell_type": "code",
   "execution_count": 4,
   "metadata": {},
   "outputs": [],
   "source": [
    "facilityScenarioLists = {}\n",
    "for file in os.listdir(dataDir):\n",
    "    if file.endswith('.yaml'):\n",
    "        with open(dataDir + file, 'r') as stream:\n",
    "            try:\n",
    "                yamlFile = yaml.safe_load(stream)\n",
    "            except yaml.YAMLError as exc:\n",
    "                print(exc)\n",
    "        for i in yamlFile:\n",
    "            for j in yamlFile[i].keys():\n",
    "                if 'Abbrev' in j:\n",
    "                    facilityScenarioLists[i] = yamlFile[i][j]\n",
    "\n",
    "\n",
    "# for i in facilityScenarioLists:\n",
    "#     print(list(facilityScenarioLists[i].keys()))\n",
    "# #     print(facilityScenarioLists[i]['facilityAbbrevs'])\n",
    "#     print(facilityScenarioLists[i]['locAbbrevList'])\n",
    "# # print(facilityScenarioLists['facilitiesWithinCookCounty']['locAbbrevList'])"
   ]
  },
  {
   "cell_type": "code",
   "execution_count": 5,
   "metadata": {},
   "outputs": [
    {
     "data": {
      "text/plain": [
       "Index([                 'index',               b'CHRONIC',\n",
       "                       b'CLEAR',             b'COLONIZED',\n",
       "                    b'INFECTED',             b'RECOVERED',\n",
       "              b'UNDETCOLONIZED',                b'abbrev',\n",
       "                         b'day',                  b'tier',\n",
       "                  b'swabCPDays',           b'otherCPDays',\n",
       "                  b'xdroCPDays', b'contactPrecautionDays',\n",
       "                    b'arrivals',           b'creArrivals',\n",
       "         b'creBundlesHandedOut',          b'newColonized',\n",
       "             b'newPatientsOnCP',         b'passiveCPDays',\n",
       "                b'creSwabsUsed',        b'xdroAdmissions',\n",
       "                          'run'],\n",
       "      dtype='object')"
      ]
     },
     "execution_count": 5,
     "metadata": {},
     "output_type": "execute_result"
    }
   ],
   "source": [
    "fullDF.columns"
   ]
  },
  {
   "cell_type": "code",
   "execution_count": 6,
   "metadata": {
    "scrolled": true
   },
   "outputs": [
    {
     "name": "stdout",
     "output_type": "stream",
     "text": [
      "index 0 <class 'numpy.int64'>\n",
      "CHRONIC 0.0 <class 'numpy.float64'>\n",
      "CLEAR 52.0 <class 'numpy.float64'>\n",
      "COLONIZED 0.0 <class 'numpy.float64'>\n",
      "INFECTED 0.0 <class 'numpy.float64'>\n",
      "RECOVERED 0.0 <class 'numpy.float64'>\n",
      "UNDETCOLONIZED 0.0 <class 'numpy.float64'>\n",
      "abbrev b'ABBI_31_S' <class 'bytes'>\n",
      "day 1825 <class 'numpy.int64'>\n",
      "tier b'NURSING' <class 'bytes'>\n",
      "swabCPDays 0.0 <class 'numpy.float64'>\n",
      "otherCPDays 0.0 <class 'numpy.float64'>\n",
      "xdroCPDays 0.0 <class 'numpy.float64'>\n",
      "contactPrecautionDays 0.0 <class 'numpy.float64'>\n",
      "arrivals 0.0 <class 'numpy.float64'>\n",
      "creArrivals 0.0 <class 'numpy.float64'>\n",
      "creBundlesHandedOut 0.0 <class 'numpy.float64'>\n",
      "newColonized 0.0 <class 'numpy.float64'>\n",
      "newPatientsOnCP 1.0 <class 'numpy.float64'>\n",
      "passiveCPDays 0.0 <class 'numpy.float64'>\n",
      "creSwabsUsed 0.0 <class 'numpy.float64'>\n",
      "xdroAdmissions 0.0 <class 'numpy.float64'>\n",
      "run 0 <class 'numpy.int64'>\n"
     ]
    }
   ],
   "source": [
    "# converting binary strings to ascii\n",
    "fullDF.columns = [key.decode('ascii') if type(key)==bytes else key for key in fullDF.columns]\n",
    "\n",
    "for key in fullDF.columns:\n",
    "    print(key, fullDF[key][0], type(fullDF[key][0]))\n",
    "    if type(fullDF[key][0]) == bytes:\n",
    "         fullDF.loc[:, key] = fullDF[key].apply(lambda x: x.decode('ascii'))\n",
    "\n",
    "# collecting full list of facility abbreviations\n",
    "fullAbbrevList = fullDF['abbrev'].unique()\n",
    "fullTierList = fullDF['tier'].unique()\n",
    "facilityScenarioLists['All facilities'] = fullAbbrevList\n",
    "\n",
    "# list of values tracked by dataset\n",
    "allValues = list(fullDF.columns)\n",
    "for i in ['index','abbrev','day', 'tier','run']:\n",
    "    allValues.remove(i)"
   ]
  },
  {
   "cell_type": "code",
   "execution_count": 7,
   "metadata": {},
   "outputs": [],
   "source": [
    "def subset_data(df, facAbbrevList=None, facTierList=None):\n",
    "    if type(facAbbrevList) == list:\n",
    "        df = df[df['abbrev'].isin(facAbbrevList)]\n",
    "    else:\n",
    "        with out:\n",
    "            print(\"facAbbrevList is not a list or not provided\")\n",
    "        \n",
    "    if type(facTierList) == list:\n",
    "        df = df[df['tier'].isin(facTierList)]\n",
    "    else:\n",
    "        with out:\n",
    "            print(\"facTierList is not a list or not provided\")\n",
    "    return df\n",
    "\n",
    "def get_traces_lo_md_hi(df, valKey, burnInYears=4, binDays=1):\n",
    "    plotColorLine = 'rgb(228,228,228)'\n",
    "    plotColorFill = plotColorLine[:3] + 'a' + plotColorLine[3:-1]+',0.2)'\n",
    "    \n",
    "    df = df[['day', 'run', valKey]]\n",
    "    df = df[df['day'] > burnInYears*365]\n",
    "    processedDF = df.groupby(['run', 'day']).sum().reset_index() #sums valKey across tiers/groupKey e.g. \"all people who are CLEAR in all tiers\"\n",
    "    processedDF = processedDF.groupby(['run', (processedDF['day'].rename(columns={'day': 'renamed'})-(processedDF['day'].rename(columns={'day': 'renamed'}).min()%binDays)) // binDays]).mean()#.reset_index()#drop=True)#.groupby('day')  # (split by run/instance still) mean value across every X days    \n",
    "    processedDF = processedDF.groupby(['day'])  \n",
    "    \n",
    "    #now, can get median, Q1, Q3 as follows:\n",
    "    medianDF = processedDF.median().reset_index()\n",
    "    quartile1DF = processedDF.quantile(0.25).reset_index()\n",
    "    quartile3DF = processedDF.quantile(0.75).reset_index()\n",
    "    \n",
    "    x = medianDF['day']\n",
    "    y_md = medianDF[valKey]        \n",
    "    y_lo = quartile1DF[valKey]\n",
    "    y_hi = quartile3DF[valKey]\n",
    "    \n",
    "    x_rev = x[::-1]\n",
    "    trace_md = go.Scatter(\n",
    "        x = x.values,\n",
    "        y = y_md.values,\n",
    "        line = dict(color=plotColorLine),\n",
    "        mode = 'lines',\n",
    "        name = traceNameInput.value + ' Median',\n",
    "    )\n",
    "            \n",
    "    trace_hilo = go.Scatter(\n",
    "        x = np.append(x.values, x_rev.values),\n",
    "        y = np.append(y_hi.values, y_lo[::-1].values),\n",
    "        fill = 'tozerox',\n",
    "        fillcolor = plotColorFill,\n",
    "        line=dict(color=plotColorFill),\n",
    "        showlegend=False,\n",
    "        name= traceNameInput.value + ' Q1 and Q3',\n",
    "    )\n",
    "    \n",
    "    return trace_hilo,trace_md, [np.min(x.values),np.max(x.values)]"
   ]
  },
  {
   "cell_type": "code",
   "execution_count": 8,
   "metadata": {},
   "outputs": [],
   "source": [
    "# Widget definitions\n",
    "\n",
    "binDayInput = widgets.FloatText(\n",
    "    value=1,\n",
    "    description='Bin (days):',\n",
    "    disabled=False\n",
    ")\n",
    "\n",
    "facListInput= widgets.Textarea(\n",
    "    value=None,\n",
    "    placeholder='\\'FAC1\\', \\'FAC2\\', \\'FAC3\\' or FAC1, FAC2, FAC3',\n",
    "    description='Custom List:',\n",
    "    disabled=False\n",
    ")\n",
    "\n",
    "scenarioSelect = widgets.RadioButtons(\n",
    "    options = list(facilityScenarioLists.keys())+['Custom'],\n",
    "    description = 'Facility Lists:',\n",
    "    disabled=False\n",
    "    )\n",
    "\n",
    "tierCheckDict = {}\n",
    "for i in fullTierList:\n",
    "    chk = widgets.Checkbox(\n",
    "        value=False,\n",
    "        description=i,\n",
    "        disabled=False\n",
    "    )\n",
    "    tierCheckDict[i] = chk\n",
    "\n",
    "traceNameInput= widgets.Textarea(\n",
    "    value=None,\n",
    "    placeholder='Facilities of interest',\n",
    "    description='Name trace:',\n",
    "    disabled=False\n",
    ")\n",
    "\n",
    "global tracesToPlot\n",
    "tracesToPlot = []\n",
    "addTraceButton = widgets.Button(description=\"Add new trace\")\n",
    "\n",
    "def add_trace_click(b):\n",
    "    with out: \n",
    "        print(\"Adding trace: \"+traceNameInput.value)\n",
    "    plotColorKey = int(len(tracesToPlot)/2)%5\n",
    "    colorDict = {0:'rgb(228,26,28)', 1:'rgb(55,126,184)', 2:'rgb(77,175,74)', 3:'rgb(152,78,163)', 4:'rgb(255,127,0)'}\n",
    "    plotColorLine = colorDict[plotColorKey]\n",
    "    plotColorFill = plotColorLine[:3] + 'a' + plotColorLine[3:-1]+',0.2)'\n",
    "\n",
    "    rb.tracelist[0]['fillcolor'] = plotColorFill\n",
    "    rb.tracelist[0]['line']['color'] = plotColorFill\n",
    "    rb.tracelist[1]['line']['color'] = plotColorLine\n",
    "    \n",
    "    tracesToPlot.extend(rb.tracelist)\n",
    "addTraceButton.on_click(add_trace_click)\n",
    "    \n",
    "\n",
    "\n",
    "clearTracesButton = widgets.Button(description=\"Clear traces\")\n",
    "def clear_trace_click(b):\n",
    "    global tracesToPlot\n",
    "    with out: \n",
    "        print(\"Clearing traces\")\n",
    "    tracesToPlot = []\n",
    "clearTracesButton.on_click(clear_trace_click)\n",
    "\n",
    "# valueChooseButton= widgets.Textarea(\n",
    "#     value=None,\n",
    "#     placeholder='COLONIZED, for example',\n",
    "#     description='Value name:',\n",
    "#     disabled=False\n",
    "# )\n",
    "\n",
    "valueSelect = widgets.RadioButtons(\n",
    "    options = allValues,\n",
    "    description = 'Value to plot:',\n",
    "    disabled=False\n",
    "    )\n",
    "    \n",
    "plotOut = widgets.Output()\n",
    "class PlotButtonClass(widgets.Button):\n",
    "    \"\"\"button to plot selected data\"\"\"\n",
    "    \n",
    "    def __init__(self, *args, **kwargs):\n",
    "        super(PlotButtonClass, self).__init__(*args, **kwargs)\n",
    "        self.description = \"Plot\"\n",
    "        self.on_click(self.plot_on_click)\n",
    "        self.plotFig = \"\"\n",
    "    \n",
    "    @staticmethod\n",
    "    def plot_on_click(b):\n",
    "        layout = go.Layout(\n",
    "            paper_bgcolor='rgb(255,255,255)',\n",
    "            plot_bgcolor='rgb(229,229,229)',\n",
    "            xaxis=dict(\n",
    "                gridcolor='rgb(255,255,255)',\n",
    "                range=rb.x_range,\n",
    "                showgrid=True,\n",
    "                showline=False,\n",
    "                showticklabels=True,\n",
    "                tickcolor='rgb(127,127,127)',\n",
    "                ticks='outside',\n",
    "                zeroline=False\n",
    "            ),\n",
    "            yaxis=dict(\n",
    "                gridcolor='rgb(255,255,255)',\n",
    "                showgrid=True,\n",
    "                showline=False,\n",
    "                showticklabels=True,\n",
    "                tickcolor='rgb(127,127,127)',\n",
    "                ticks='outside',\n",
    "                zeroline=False\n",
    "            )\n",
    "        )\n",
    "        b.plotFig = go.FigureWidget(data=tracesToPlot, layout=layout)\n",
    "        plotOut.clear_output()\n",
    "        with plotOut:\n",
    "            display(b.plotFig)\n",
    "plotButton = PlotButtonClass()\n",
    "out = widgets.Output()\n",
    "\n",
    "\n",
    "class RecalculateButton(widgets.Button):\n",
    "    \"\"\"button to subset a full RHEA run dataframe by the provided facilities\"\"\"\n",
    "    \n",
    "    def __init__(self, *args, **kwargs):\n",
    "        super(RecalculateButton, self).__init__(*args, **kwargs)\n",
    "        self.description = \"Recalculate\"\n",
    "        self.on_click(self.on_button_clicked)\n",
    "        self.subsetDF = pd.DataFrame()\n",
    "        self.tracelist = []\n",
    "        \n",
    "    @staticmethod\n",
    "    def on_button_clicked(b):\n",
    "        out.clear_output()\n",
    "        if int(binDayInput.value) != binDayInput.value:\n",
    "            with out:\n",
    "                print('Please enter an integer number of days in \"Bin (days)\"')\n",
    "            return\n",
    "        if scenarioSelect.value == 'Custom':\n",
    "            facToSubset = [i.strip() for i in facListInput.value.replace(\"'\",\"\").strip().split(',')]\n",
    "        else:\n",
    "            facToSubset = facilityScenarioLists[scenarioSelect.value]\n",
    "        if not set(facToSubset).issubset(fullAbbrevList):\n",
    "            errorFacs=[]\n",
    "            for fac in facToSubset:\n",
    "                if fac not in fullAbbrevList:\n",
    "                    errorFacs.append(fac)\n",
    "            with out:\n",
    "                print('The following provided facility abbreviations were not found in this dataset:', errorFacs)\n",
    "            return\n",
    "        tierToSubset = [i for i in tierCheckDict if tierCheckDict[i].value]\n",
    "\n",
    "        with out:\n",
    "            print(\"Selecting data from the following tiers:\")\n",
    "            print(tierToSubset)\n",
    "            if len(facToSubset) < 20:\n",
    "                print(\"and the following facilities:\")\n",
    "                print(facToSubset)\n",
    "            else:\n",
    "                print(\"and\",len(facToSubset), \"facilities.\")\n",
    "        b.subsetDF = subset_data(fullDF, facAbbrevList=facToSubset, facTierList=tierToSubset)\n",
    "        trace1, trace2, b.x_range = get_traces_lo_md_hi(b.subsetDF, valueSelect.value, binDays=int(binDayInput.value))\n",
    "        b.tracelist = [trace1, trace2]\n",
    "#         fig.update(data = [trace1, trace2])"
   ]
  },
  {
   "cell_type": "code",
   "execution_count": 9,
   "metadata": {
    "scrolled": false
   },
   "outputs": [
    {
     "data": {
      "application/vnd.jupyter.widget-view+json": {
       "model_id": "685418245ea24dc498f69def9966fd46",
       "version_major": 2,
       "version_minor": 0
      },
      "text/plain": [
       "FloatText(value=1.0, description='Bin (days):')"
      ]
     },
     "metadata": {},
     "output_type": "display_data"
    },
    {
     "data": {
      "application/vnd.jupyter.widget-view+json": {
       "model_id": "8333c3bb33634c8880d42059e3f858f4",
       "version_major": 2,
       "version_minor": 0
      },
      "text/plain": [
       "RadioButtons(description='Facility Lists:', options=('facilitiesWithin13Miles', 'facilitiesWithinCookCounty', …"
      ]
     },
     "metadata": {},
     "output_type": "display_data"
    },
    {
     "data": {
      "application/vnd.jupyter.widget-view+json": {
       "model_id": "9be7a3f876be4502a26da5b8cc27dc36",
       "version_major": 2,
       "version_minor": 0
      },
      "text/plain": [
       "Textarea(value='', description='Custom List:', placeholder=\"'FAC1', 'FAC2', 'FAC3' or FAC1, FAC2, FAC3\")"
      ]
     },
     "metadata": {},
     "output_type": "display_data"
    },
    {
     "data": {
      "application/vnd.jupyter.widget-view+json": {
       "model_id": "f62d7270cc81474a81e8e4522dde7bfe",
       "version_major": 2,
       "version_minor": 0
      },
      "text/plain": [
       "Checkbox(value=False, description='NURSING')"
      ]
     },
     "metadata": {},
     "output_type": "display_data"
    },
    {
     "data": {
      "application/vnd.jupyter.widget-view+json": {
       "model_id": "68d5b761a14743e9b4a3d47b5906a95e",
       "version_major": 2,
       "version_minor": 0
      },
      "text/plain": [
       "Checkbox(value=False, description='HOSP')"
      ]
     },
     "metadata": {},
     "output_type": "display_data"
    },
    {
     "data": {
      "application/vnd.jupyter.widget-view+json": {
       "model_id": "87466137adf8440ea3602c406306e0fd",
       "version_major": 2,
       "version_minor": 0
      },
      "text/plain": [
       "Checkbox(value=False, description='ICU')"
      ]
     },
     "metadata": {},
     "output_type": "display_data"
    },
    {
     "data": {
      "application/vnd.jupyter.widget-view+json": {
       "model_id": "c394c55f5bf94c76966eae6b56f4156e",
       "version_major": 2,
       "version_minor": 0
      },
      "text/plain": [
       "Checkbox(value=False, description='LTAC')"
      ]
     },
     "metadata": {},
     "output_type": "display_data"
    },
    {
     "data": {
      "application/vnd.jupyter.widget-view+json": {
       "model_id": "c18ef0eba76f417aa90c3234d700120e",
       "version_major": 2,
       "version_minor": 0
      },
      "text/plain": [
       "Checkbox(value=False, description='SKILNRS')"
      ]
     },
     "metadata": {},
     "output_type": "display_data"
    },
    {
     "data": {
      "application/vnd.jupyter.widget-view+json": {
       "model_id": "5d33f87692944523beae7556c324efed",
       "version_major": 2,
       "version_minor": 0
      },
      "text/plain": [
       "Checkbox(value=False, description='VENT')"
      ]
     },
     "metadata": {},
     "output_type": "display_data"
    },
    {
     "data": {
      "application/vnd.jupyter.widget-view+json": {
       "model_id": "8203d3d56e1c421698946b42210ff997",
       "version_major": 2,
       "version_minor": 0
      },
      "text/plain": [
       "Textarea(value='', description='Name trace:', placeholder='Facilities of interest')"
      ]
     },
     "metadata": {},
     "output_type": "display_data"
    },
    {
     "data": {
      "application/vnd.jupyter.widget-view+json": {
       "model_id": "c218686cf3504f9db06f0a749ea92dbf",
       "version_major": 2,
       "version_minor": 0
      },
      "text/plain": [
       "RadioButtons(description='Value to plot:', options=('CHRONIC', 'CLEAR', 'COLONIZED', 'INFECTED', 'RECOVERED', …"
      ]
     },
     "metadata": {},
     "output_type": "display_data"
    },
    {
     "data": {
      "application/vnd.jupyter.widget-view+json": {
       "model_id": "356b78e9be854c3c8f762a0abd959a88",
       "version_major": 2,
       "version_minor": 0
      },
      "text/plain": [
       "RecalculateButton(description='Recalculate', style=ButtonStyle())"
      ]
     },
     "metadata": {},
     "output_type": "display_data"
    },
    {
     "data": {
      "application/vnd.jupyter.widget-view+json": {
       "model_id": "b58ca11b700b4fe1b514392bc899400f",
       "version_major": 2,
       "version_minor": 0
      },
      "text/plain": [
       "Button(description='Add new trace', style=ButtonStyle())"
      ]
     },
     "metadata": {},
     "output_type": "display_data"
    },
    {
     "data": {
      "application/vnd.jupyter.widget-view+json": {
       "model_id": "f38d2fa23a0949ef86fa433cc1c5dfc2",
       "version_major": 2,
       "version_minor": 0
      },
      "text/plain": [
       "Button(description='Clear traces', style=ButtonStyle())"
      ]
     },
     "metadata": {},
     "output_type": "display_data"
    },
    {
     "data": {
      "application/vnd.jupyter.widget-view+json": {
       "model_id": "f1dd02b57bf2445889efb11d76adac17",
       "version_major": 2,
       "version_minor": 0
      },
      "text/plain": [
       "Output()"
      ]
     },
     "metadata": {},
     "output_type": "display_data"
    },
    {
     "data": {
      "application/vnd.jupyter.widget-view+json": {
       "model_id": "846c0e88f39d4d25a063df8daadb353c",
       "version_major": 2,
       "version_minor": 0
      },
      "text/plain": [
       "PlotButtonClass(description='Plot', style=ButtonStyle())"
      ]
     },
     "metadata": {},
     "output_type": "display_data"
    },
    {
     "data": {
      "application/vnd.jupyter.widget-view+json": {
       "model_id": "ffc5a2ad815645068b54afc593ec15aa",
       "version_major": 2,
       "version_minor": 0
      },
      "text/plain": [
       "Output()"
      ]
     },
     "metadata": {},
     "output_type": "display_data"
    }
   ],
   "source": [
    "rb = RecalculateButton()\n",
    "display(binDayInput)\n",
    "display(scenarioSelect)\n",
    "display(facListInput)\n",
    "for i in tierCheckDict:\n",
    "    display(tierCheckDict[i])\n",
    "display(traceNameInput)\n",
    "display(valueSelect)\n",
    "display(rb)\n",
    "display(addTraceButton)\n",
    "display(clearTracesButton)\n",
    "display(out)\n",
    "display(plotButton)\n",
    "display(plotOut)"
   ]
  },
  {
   "cell_type": "code",
   "execution_count": 22,
   "metadata": {},
   "outputs": [
    {
     "name": "stdout",
     "output_type": "stream",
     "text": [
      "1097\n",
      "1097\n",
      "2\n"
     ]
    }
   ],
   "source": [
    "np.array([rb.tracelist[1].x, rb.tracelist[1].y])\n",
    "print(np.size(rb.tracelist[1].x))\n",
    "print(np.size(rb.tracelist[1].y))\n",
    "print(np.size(np.array([rb.tracelist[1].x, rb.tracelist[1].y]), 0))"
   ]
  },
  {
   "cell_type": "code",
   "execution_count": 27,
   "metadata": {},
   "outputs": [],
   "source": [
    "jsonDF = pd.DataFrame(np.column_stack([rb.tracelist[1].x, rb.tracelist[1].y]), columns=['x', 'y'])\n",
    "jsonDFQ1Q3 = pd.DataFrame(np.column_stack([rb.tracelist[0].x, rb.tracelist[0].y]), columns=['x', 'y'])"
   ]
  },
  {
   "cell_type": "code",
   "execution_count": 28,
   "metadata": {},
   "outputs": [],
   "source": [
    "jsonDF.to_json(\"RHEAtest.json\", orient='records')\n",
    "jsonDFQ1Q3.to_json(\"RHEAQ1Q3test.json\", orient='records')\n"
   ]
  },
  {
   "cell_type": "code",
   "execution_count": 10,
   "metadata": {},
   "outputs": [
    {
     "ename": "IndexError",
     "evalue": "list index out of range",
     "output_type": "error",
     "traceback": [
      "\u001b[1;31m---------------------------------------------------------------------------\u001b[0m",
      "\u001b[1;31mIndexError\u001b[0m                                Traceback (most recent call last)",
      "\u001b[1;32m<ipython-input-10-556a7b1b06a6>\u001b[0m in \u001b[0;36m<module>\u001b[1;34m()\u001b[0m\n\u001b[1;32m----> 1\u001b[1;33m \u001b[0mnp\u001b[0m\u001b[1;33m.\u001b[0m\u001b[0msavetxt\u001b[0m\u001b[1;33m(\u001b[0m\u001b[1;34m\"RHEAtest.csv\"\u001b[0m\u001b[1;33m,\u001b[0m\u001b[0mnp\u001b[0m\u001b[1;33m.\u001b[0m\u001b[0mcolumn_stack\u001b[0m\u001b[1;33m(\u001b[0m\u001b[1;33m[\u001b[0m\u001b[0mrb\u001b[0m\u001b[1;33m.\u001b[0m\u001b[0mtracelist\u001b[0m\u001b[1;33m[\u001b[0m\u001b[1;36m1\u001b[0m\u001b[1;33m]\u001b[0m\u001b[1;33m.\u001b[0m\u001b[0mx\u001b[0m\u001b[1;33m,\u001b[0m \u001b[0mrb\u001b[0m\u001b[1;33m.\u001b[0m\u001b[0mtracelist\u001b[0m\u001b[1;33m[\u001b[0m\u001b[1;36m1\u001b[0m\u001b[1;33m]\u001b[0m\u001b[1;33m.\u001b[0m\u001b[0my\u001b[0m\u001b[1;33m]\u001b[0m\u001b[1;33m)\u001b[0m\u001b[1;33m,\u001b[0m \u001b[0mfmt\u001b[0m\u001b[1;33m=\u001b[0m \u001b[1;34m'%.2f'\u001b[0m\u001b[1;33m,\u001b[0m \u001b[0mdelimiter\u001b[0m\u001b[1;33m=\u001b[0m\u001b[1;34m','\u001b[0m\u001b[1;33m)\u001b[0m\u001b[1;33m\u001b[0m\u001b[0m\n\u001b[0m",
      "\u001b[1;31mIndexError\u001b[0m: list index out of range"
     ]
    }
   ],
   "source": [
    "np.savetxt(\"RHEAtest.csv\",np.column_stack([rb.tracelist[1].x, rb.tracelist[1].y]), fmt= '%.2f', delimiter=',')"
   ]
  },
  {
   "cell_type": "code",
   "execution_count": null,
   "metadata": {},
   "outputs": [],
   "source": [
    "np.column_stack([rb.tracelist[1].x, rb.tracelist[1].y])"
   ]
  },
  {
   "cell_type": "code",
   "execution_count": null,
   "metadata": {},
   "outputs": [],
   "source": []
  }
 ],
 "metadata": {
  "kernelspec": {
   "display_name": "Python 3",
   "language": "python",
   "name": "python3"
  },
  "language_info": {
   "codemirror_mode": {
    "name": "ipython",
    "version": 3
   },
   "file_extension": ".py",
   "mimetype": "text/x-python",
   "name": "python",
   "nbconvert_exporter": "python",
   "pygments_lexer": "ipython3",
   "version": "3.6.1"
  }
 },
 "nbformat": 4,
 "nbformat_minor": 1
}
