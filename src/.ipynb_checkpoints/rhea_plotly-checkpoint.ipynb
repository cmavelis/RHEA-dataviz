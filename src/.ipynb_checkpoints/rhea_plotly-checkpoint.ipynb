{
 "cells": [
  {
   "cell_type": "code",
   "execution_count": null,
   "metadata": {},
   "outputs": [],
   "source": [
    "# Learn about API authentication here: https://plot.ly/pandas/getting-started\n",
    "# Find your api_key here: https://plot.ly/settings/api\n",
    "\n",
    "import plotly.graph_objs as go\n",
    "import plotly.plotly as py\n",
    "\n",
    "# import plotly.offline as py\n",
    "# py.init_notebook_mode(connected=True)\n",
    "\n",
    "# from IPython import display\n",
    "import pandas as pd\n",
    "import numpy as np\n",
    "import ipywidgets as widgets\n",
    "import yaml\n",
    "import os"
   ]
  },
  {
   "cell_type": "code",
   "execution_count": 2,
   "metadata": {},
   "outputs": [],
   "source": [
    "# # loading in DataFrame\n",
    "# # global fullDF\n",
    "# fullDF = pd.read_msgpack('counts_output_dataframe_old.mpz')\n",
    "# # fullDF = fullDF[fullDF['day'] > 4*365]  # removing burn-in time"
   ]
  },
  {
   "cell_type": "code",
   "execution_count": 3,
   "metadata": {},
   "outputs": [
    {
     "data": {
      "text/plain": [
       "Index([                 'index',               b'CHRONIC',\n",
       "                       b'CLEAR',             b'COLONIZED',\n",
       "                    b'INFECTED',             b'RECOVERED',\n",
       "              b'UNDETCOLONIZED',                b'abbrev',\n",
       "                         b'day',                  b'tier',\n",
       "                  b'swabCPDays',           b'otherCPDays',\n",
       "                  b'xdroCPDays', b'contactPrecautionDays',\n",
       "                    b'arrivals',           b'creArrivals',\n",
       "         b'creBundlesHandedOut',          b'newColonized',\n",
       "             b'newPatientsOnCP',         b'passiveCPDays',\n",
       "                b'creSwabsUsed',        b'xdroAdmissions',\n",
       "                          'run'],\n",
       "      dtype='object')"
      ]
     },
     "execution_count": 3,
     "metadata": {},
     "output_type": "execute_result"
    }
   ],
   "source": [
    "mpzDir = '../input_data/'\n",
    "\n",
    "mpzNotes = ['Chi_xdro_5y_3y_capped_1_2_capture_100_search_100_add_100_proc_0_tbl_dataframe.mpz',\n",
    "#  'Chi_xdro_5y_3y_capped_1_2_capture_100_search_100_add_100_proc_10_tbl_dataframe.mpz',\n",
    "#  'Chi_xdro_5y_3y_capped_1_2_capture_100_search_100_add_100_proc_1_tbl_dataframe.mpz',\n",
    "#  'Chi_xdro_5y_3y_capped_1_2_capture_100_search_100_add_100_proc_200_tbl_dataframe.mpz',\n",
    "#  'Chi_xdro_5y_3y_capped_1_2_capture_100_search_100_add_100_proc_201_tbl_dataframe.mpz',\n",
    "#  'Chi_xdro_5y_3y_capped_1_2_capture_100_search_100_add_100_proc_202_tbl_dataframe.mpz',\n",
    "#  'Chi_xdro_5y_3y_capped_1_2_capture_100_search_100_add_100_proc_203_tbl_dataframe.mpz',\n",
    "#  'Chi_xdro_5y_3y_capped_1_2_capture_100_search_100_add_100_proc_204_tbl_dataframe.mpz',\n",
    "#  'Chi_xdro_5y_3y_capped_1_2_capture_100_search_100_add_100_proc_205_tbl_dataframe.mpz',\n",
    " 'Chi_xdro_5y_3y_capped_1_2_capture_100_search_100_add_100_proc_206_tbl_dataframe.mpz',]\n",
    "\n",
    "totalStats = []\n",
    "for mFname in mpzNotes:\n",
    "           totalStats.append(pd.read_msgpack(mpzDir + mFname))\n",
    "tsDFL = []\n",
    "for idx, df in enumerate(totalStats):\n",
    "    df['run'] = idx\n",
    "#     print(df.drop([b'index',b'run'],axis=1).columns)\n",
    "    tsDFL.append(df.drop([b'index',b'run'],axis=1))\n",
    "fullDF = pd.concat(tsDFL).reset_index()\n",
    "tsDFL = []\n",
    "fullDF.columns"
   ]
  },
  {
   "cell_type": "code",
   "execution_count": 4,
   "metadata": {},
   "outputs": [],
   "source": [
    "facilityScenarioLists = {}\n",
    "for file in os.listdir():\n",
    "    if file.endswith('.yaml'):\n",
    "        with open(file, 'r') as stream:\n",
    "            try:\n",
    "                yamlFile = yaml.safe_load(stream)\n",
    "            except yaml.YAMLError as exc:\n",
    "                print(exc)\n",
    "        for i in yamlFile:\n",
    "            for j in yamlFile[i].keys():\n",
    "                if 'Abbrev' in j:\n",
    "                    facilityScenarioLists[i] = yamlFile[i][j]\n",
    "\n",
    "\n",
    "# for i in facilityScenarioLists:\n",
    "#     print(list(facilityScenarioLists[i].keys()))\n",
    "# #     print(facilityScenarioLists[i]['facilityAbbrevs'])\n",
    "#     print(facilityScenarioLists[i]['locAbbrevList'])\n",
    "# # print(facilityScenarioLists['facilitiesWithinCookCounty']['locAbbrevList'])"
   ]
  },
  {
   "cell_type": "code",
   "execution_count": 5,
   "metadata": {},
   "outputs": [
    {
     "data": {
      "text/plain": [
       "Index([                 'index',               b'CHRONIC',\n",
       "                       b'CLEAR',             b'COLONIZED',\n",
       "                    b'INFECTED',             b'RECOVERED',\n",
       "              b'UNDETCOLONIZED',                b'abbrev',\n",
       "                         b'day',                  b'tier',\n",
       "                  b'swabCPDays',           b'otherCPDays',\n",
       "                  b'xdroCPDays', b'contactPrecautionDays',\n",
       "                    b'arrivals',           b'creArrivals',\n",
       "         b'creBundlesHandedOut',          b'newColonized',\n",
       "             b'newPatientsOnCP',         b'passiveCPDays',\n",
       "                b'creSwabsUsed',        b'xdroAdmissions',\n",
       "                          'run'],\n",
       "      dtype='object')"
      ]
     },
     "execution_count": 5,
     "metadata": {},
     "output_type": "execute_result"
    }
   ],
   "source": [
    "fullDF.columns"
   ]
  },
  {
   "cell_type": "code",
   "execution_count": 6,
   "metadata": {
    "scrolled": true
   },
   "outputs": [
    {
     "name": "stdout",
     "output_type": "stream",
     "text": [
      "index 0 <class 'numpy.int64'>\n",
      "CHRONIC 0.0 <class 'numpy.float64'>\n",
      "CLEAR 54.0 <class 'numpy.float64'>\n",
      "COLONIZED 0.0 <class 'numpy.float64'>\n",
      "INFECTED 0.0 <class 'numpy.float64'>\n",
      "RECOVERED 0.0 <class 'numpy.float64'>\n",
      "UNDETCOLONIZED 0.0 <class 'numpy.float64'>\n",
      "abbrev b'ABBI_31_S' <class 'bytes'>\n",
      "day 1825 <class 'numpy.int64'>\n",
      "tier b'NURSING' <class 'bytes'>\n",
      "swabCPDays 0.0 <class 'numpy.float64'>\n",
      "otherCPDays 0.0 <class 'numpy.float64'>\n",
      "xdroCPDays 0.0 <class 'numpy.float64'>\n",
      "contactPrecautionDays 0.0 <class 'numpy.float64'>\n",
      "arrivals 0.0 <class 'numpy.float64'>\n",
      "creArrivals 0.0 <class 'numpy.float64'>\n",
      "creBundlesHandedOut 0.0 <class 'numpy.float64'>\n",
      "newColonized 0.0 <class 'numpy.float64'>\n",
      "newPatientsOnCP 3.0 <class 'numpy.float64'>\n",
      "passiveCPDays 0.0 <class 'numpy.float64'>\n",
      "creSwabsUsed 0.0 <class 'numpy.float64'>\n",
      "xdroAdmissions 0.0 <class 'numpy.float64'>\n",
      "run 0 <class 'numpy.int64'>\n"
     ]
    }
   ],
   "source": [
    "# converting binary strings to ascii\n",
    "fullDF.columns = [key.decode('ascii') if type(key)==bytes else key for key in fullDF.columns]\n",
    "\n",
    "for key in fullDF.columns:\n",
    "    print(key, fullDF[key][0], type(fullDF[key][0]))\n",
    "    if type(fullDF[key][0]) == bytes:\n",
    "         fullDF.loc[:, key] = fullDF[key].apply(lambda x: x.decode('ascii'))\n",
    "\n",
    "# collecting full list of facility abbreviations\n",
    "fullAbbrevList = fullDF['abbrev'].unique()\n",
    "fullTierList = fullDF['tier'].unique()\n",
    "facilityScenarioLists['All facilities'] = fullAbbrevList"
   ]
  },
  {
   "cell_type": "code",
   "execution_count": 7,
   "metadata": {},
   "outputs": [],
   "source": [
    "def subset_data(df, facAbbrevList=None, facTierList=None):\n",
    "    if type(facAbbrevList) == list:\n",
    "        df = df[df['abbrev'].isin(facAbbrevList)]\n",
    "    else:\n",
    "        with out:\n",
    "            print(\"facAbbrevList is not a list or not provided\")\n",
    "        \n",
    "    if type(facTierList) == list:\n",
    "        df = df[df['tier'].isin(facTierList)]\n",
    "    else:\n",
    "        with out:\n",
    "            print(\"facTierList is not a list or not provided\")\n",
    "    return df\n",
    "\n",
    "def get_traces_lo_md_hi(df, valKey, burnInYears=4, binDays=1, plotColor='g'):\n",
    "    if plotColor=='g':\n",
    "        plotColorLine = 'rgb(0,100,80)'\n",
    "        plotColorFill = 'rgba(0,100,80,0.2)'\n",
    "    elif plotColor=='r':\n",
    "        plotColorLine = 'rgb(100,0,80)'\n",
    "        plotColorFill = 'rgba(100,0,80,0.2)'    \n",
    "    \n",
    "    df = df[['day', 'run', valKey]]\n",
    "    df = df[df['day'] > burnInYears*365]\n",
    "    processedDF = df.groupby(['run', 'day']).sum().reset_index() #sums valKey across tiers/groupKey e.g. \"all people who are CLEAR in all tiers\"\n",
    "    processedDF = processedDF.groupby(['run', (processedDF['day'].rename(columns={'day': 'renamed'})-(processedDF['day'].rename(columns={'day': 'renamed'}).min()%binDays)) // binDays]).mean()#.reset_index()#drop=True)#.groupby('day')  # (split by run/instance still) mean value across every X days    \n",
    "    processedDF = processedDF.groupby(['day'])  \n",
    "    \n",
    "    #now, can get median, Q1, Q3 as follows:\n",
    "    medianDF = processedDF.median().reset_index()\n",
    "    quartile1DF = processedDF.quantile(0.25).reset_index()\n",
    "    quartile3DF = processedDF.quantile(0.75).reset_index()\n",
    "    \n",
    "    x = medianDF['day']\n",
    "    y_md = medianDF[valKey]        \n",
    "    y_lo = quartile1DF[valKey]\n",
    "    y_hi = quartile3DF[valKey]\n",
    "    \n",
    "    x_rev = x[::-1]\n",
    "    trace_md = go.Scatter(\n",
    "        x = x.values,\n",
    "        y = y_md.values,\n",
    "        line = dict(color=plotColorLine),\n",
    "        mode = 'lines',\n",
    "        name = 'Median',\n",
    "    )\n",
    "            \n",
    "    trace_hilo = go.Scatter(\n",
    "        x = np.append(x.values, x_rev.values),\n",
    "        y = np.append(y_hi.values, y_lo[::-1].values),\n",
    "        fill = 'tozerox',\n",
    "        fillcolor = plotColorFill,\n",
    "        line=dict(color=plotColorFill),\n",
    "        showlegend=False,\n",
    "        name='Q1 and Q3',\n",
    "    )\n",
    "    \n",
    "    return trace_hilo,trace_md, [np.min(x.values),np.max(x.values)]"
   ]
  },
  {
   "cell_type": "code",
   "execution_count": 8,
   "metadata": {},
   "outputs": [],
   "source": [
    "# Widget definitions\n",
    "\n",
    "\n",
    "binDayInput = widgets.FloatText(\n",
    "    value=1,\n",
    "    description='Bin (days):',\n",
    "    disabled=False\n",
    ")\n",
    "\n",
    "facListInput= widgets.Textarea(\n",
    "    value=None,\n",
    "    placeholder='\\'FAC1\\', \\'FAC2\\', \\'FAC3\\' or FAC1, FAC2, FAC3',\n",
    "    description='Facility List:',\n",
    "    disabled=False\n",
    ")\n",
    "\n",
    "scenarioSelect = widgets.RadioButtons(\n",
    "    options = list(facilityScenarioLists.keys())+['Custom'],\n",
    "    description = 'Scenario lists',\n",
    "    disabled=False\n",
    "    )\n",
    "\n",
    "tierCheckDict = {}\n",
    "for i in fullTierList:\n",
    "    chk = widgets.Checkbox(\n",
    "        value=False,\n",
    "        description=i,\n",
    "        disabled=False\n",
    "    )\n",
    "    tierCheckDict[i] = chk\n",
    "\n",
    "plotButton = widgets.Button(description=\"Plot\")\n",
    "\n",
    "plotOut = widgets.Output()\n",
    "def plot_on_click(b):\n",
    "    layout = go.Layout(\n",
    "        paper_bgcolor='rgb(255,255,255)',\n",
    "        plot_bgcolor='rgb(229,229,229)',\n",
    "        xaxis=dict(\n",
    "            gridcolor='rgb(255,255,255)',\n",
    "            range=rb.x_range,\n",
    "            showgrid=True,\n",
    "            showline=False,\n",
    "            showticklabels=True,\n",
    "            tickcolor='rgb(127,127,127)',\n",
    "            ticks='outside',\n",
    "            zeroline=False\n",
    "        ),\n",
    "        yaxis=dict(\n",
    "            gridcolor='rgb(255,255,255)',\n",
    "            showgrid=True,\n",
    "            showline=False,\n",
    "            showticklabels=True,\n",
    "            tickcolor='rgb(127,127,127)',\n",
    "            ticks='outside',\n",
    "            zeroline=False\n",
    "        )\n",
    "    )\n",
    "    plotFig = go.FigureWidget(data=rb.tracelist, layout=layout)\n",
    "    plotOut.clear_output()\n",
    "    with plotOut:\n",
    "        display(plotFig)\n",
    "plotButton.on_click(plot_on_click)\n",
    "\n",
    "out = widgets.Output()\n",
    "\n",
    "\n",
    "class RecalculateButton(widgets.Button):\n",
    "    \"\"\"button to subset a full RHEA run dataframe by the provided facilities\"\"\"\n",
    "    \n",
    "    def __init__(self, *args, **kwargs):\n",
    "        super(RecalculateButton, self).__init__(*args, **kwargs)\n",
    "        self.description = \"Recalculate\"\n",
    "        self.on_click(self.on_button_clicked)\n",
    "        self.subsetDF = pd.DataFrame()\n",
    "        self.tracelist = []\n",
    "        \n",
    "    @staticmethod\n",
    "    def on_button_clicked(b):\n",
    "        out.clear_output()\n",
    "        if int(binDayInput.value) != binDayInput.value:\n",
    "            with out:\n",
    "                print('Please enter an integer number of days in \"Bin (days)\"')\n",
    "            return\n",
    "        if scenarioSelect.value == 'Custom':\n",
    "            facToSubset = [i.strip() for i in facListInput.value.replace(\"'\",\"\").strip().split(',')]\n",
    "        else:\n",
    "            facToSubset = facilityScenarioLists[scenarioSelect.value]\n",
    "        if not set(facToSubset).issubset(fullAbbrevList):\n",
    "            errorFacs=[]\n",
    "            for fac in facToSubset:\n",
    "                if fac not in fullAbbrevList:\n",
    "                    errorFacs.append(fac)\n",
    "            with out:\n",
    "                print('The following provided facility abbreviations were not found in this dataset:', errorFacs)\n",
    "            return\n",
    "        tierToSubset = [i for i in tierCheckDict if tierCheckDict[i].value]\n",
    "\n",
    "        with out:\n",
    "            print(\"Selecting data from the following tiers:\")\n",
    "            print(tierToSubset)\n",
    "            if len(facToSubset) < 20:\n",
    "                print(\"and the following facilities:\")\n",
    "                print(facToSubset)\n",
    "            else:\n",
    "                print(\"and\",len(facToSubset), \"facilities.\")\n",
    "        b.subsetDF = subset_data(fullDF, facAbbrevList=facToSubset, facTierList=tierToSubset)\n",
    "        trace1, trace2, b.x_range = get_traces_lo_md_hi(b.subsetDF, 'COLONIZED', binDays=int(binDayInput.value), plotColor='r')\n",
    "        b.tracelist = [trace1, trace2]\n",
    "#         fig.update(data = [trace1, trace2])"
   ]
  },
  {
   "cell_type": "code",
   "execution_count": 9,
   "metadata": {
    "scrolled": false
   },
   "outputs": [
    {
     "data": {
      "text/plain": [
       "FloatText(value=1.0, description='Bin (days):')"
      ]
     },
     "metadata": {},
     "output_type": "display_data"
    },
    {
     "data": {
      "text/plain": [
       "RadioButtons(description='Scenario lists', options=('facilitiesWithin13Miles', 'facilitiesWithinCookCounty', '…"
      ]
     },
     "metadata": {},
     "output_type": "display_data"
    },
    {
     "data": {
      "text/plain": [
       "Textarea(value='', description='Facility List:', placeholder=\"'FAC1', 'FAC2', 'FAC3' or FAC1, FAC2, FAC3\")"
      ]
     },
     "metadata": {},
     "output_type": "display_data"
    },
    {
     "data": {
      "text/plain": [
       "Checkbox(value=False, description='NURSING')"
      ]
     },
     "metadata": {},
     "output_type": "display_data"
    },
    {
     "data": {
      "text/plain": [
       "Checkbox(value=False, description='HOSP')"
      ]
     },
     "metadata": {},
     "output_type": "display_data"
    },
    {
     "data": {
      "text/plain": [
       "Checkbox(value=False, description='ICU')"
      ]
     },
     "metadata": {},
     "output_type": "display_data"
    },
    {
     "data": {
      "text/plain": [
       "Checkbox(value=False, description='LTAC')"
      ]
     },
     "metadata": {},
     "output_type": "display_data"
    },
    {
     "data": {
      "text/plain": [
       "Checkbox(value=False, description='SKILNRS')"
      ]
     },
     "metadata": {},
     "output_type": "display_data"
    },
    {
     "data": {
      "text/plain": [
       "Checkbox(value=False, description='VENT')"
      ]
     },
     "metadata": {},
     "output_type": "display_data"
    },
    {
     "data": {
      "text/plain": [
       "RecalculateButton(description='Recalculate', style=ButtonStyle())"
      ]
     },
     "metadata": {},
     "output_type": "display_data"
    },
    {
     "data": {
      "text/plain": [
       "Output()"
      ]
     },
     "metadata": {},
     "output_type": "display_data"
    },
    {
     "data": {
      "text/plain": [
       "Button(description='Plot', style=ButtonStyle())"
      ]
     },
     "metadata": {},
     "output_type": "display_data"
    },
    {
     "data": {
      "text/plain": [
       "Output()"
      ]
     },
     "metadata": {},
     "output_type": "display_data"
    }
   ],
   "source": [
    "rb = RecalculateButton()\n",
    "display(binDayInput)\n",
    "display(scenarioSelect)\n",
    "display(facListInput)\n",
    "for i in tierCheckDict:\n",
    "    display(tierCheckDict[i])\n",
    "display(rb)\n",
    "display(out)\n",
    "display(plotButton)\n",
    "display(plotOut)\n",
    "# plotFig = go.FigureWidget(data=[{'x':[1,2],'y':[1,2], 'type':'scatter'}])\n",
    "# display(plotFig)\n",
    "# fig = go.Figure(data=rb.tracelist, layout=layout)\n",
    "# tracePlot = py.iplot(fig, filename='RHEA-plot')\n",
    "# tracePlot"
   ]
  },
  {
   "cell_type": "code",
   "execution_count": null,
   "metadata": {},
   "outputs": [],
   "source": []
  },
  {
   "cell_type": "code",
   "execution_count": null,
   "metadata": {},
   "outputs": [],
   "source": [
    "plotFig.data = [trace1]"
   ]
  },
  {
   "cell_type": "code",
   "execution_count": null,
   "metadata": {
    "scrolled": true
   },
   "outputs": [],
   "source": [
    "trace1, trace2, x_range = get_traces_lo_md_hi(rb.subsetDF, 'COLONIZED', binDays=int(binDayInput.value), plotColor='r')\n",
    "# trace3, trace4, _ = get_traces_lo_md_hi(fullDF, 'tier', 'NURSING', 'CLEAR', binDays=bindays)"
   ]
  },
  {
   "cell_type": "code",
   "execution_count": null,
   "metadata": {},
   "outputs": [],
   "source": [
    "data = go.Data([trace1, trace2])"
   ]
  },
  {
   "cell_type": "code",
   "execution_count": null,
   "metadata": {},
   "outputs": [],
   "source": [
    "data2 = go.Data([trace1, trace2])"
   ]
  },
  {
   "cell_type": "code",
   "execution_count": null,
   "metadata": {},
   "outputs": [],
   "source": [
    "layout = go.Layout(\n",
    "    paper_bgcolor='rgb(255,255,255)',\n",
    "    plot_bgcolor='rgb(229,229,229)',\n",
    "    xaxis=dict(\n",
    "        gridcolor='rgb(255,255,255)',\n",
    "        range=x_range,\n",
    "        showgrid=True,\n",
    "        showline=False,\n",
    "        showticklabels=True,\n",
    "        tickcolor='rgb(127,127,127)',\n",
    "        ticks='outside',\n",
    "        zeroline=False\n",
    "    ),\n",
    "    yaxis=dict(\n",
    "        gridcolor='rgb(255,255,255)',\n",
    "        showgrid=True,\n",
    "        showline=False,\n",
    "        showticklabels=True,\n",
    "        tickcolor='rgb(127,127,127)',\n",
    "        ticks='outside',\n",
    "        zeroline=False\n",
    "    ),\n",
    "#     updatemenus=updatemenus\n",
    ")\n",
    "\n",
    "# IPython notebook\n",
    "fig = go.Figure(data=data, layout=layout)#rb.tracelist\n",
    "py.iplot(fig, filename='RHEA-plot')"
   ]
  },
  {
   "cell_type": "code",
   "execution_count": null,
   "metadata": {},
   "outputs": [],
   "source": [
    "fig.update(data=data2)\n",
    "# plot1.reload()\n",
    "fig['data']"
   ]
  },
  {
   "cell_type": "code",
   "execution_count": null,
   "metadata": {},
   "outputs": [],
   "source": [
    "plot1 = py.iplot(fig, filename='RHEA-plot')"
   ]
  },
  {
   "cell_type": "code",
   "execution_count": null,
   "metadata": {},
   "outputs": [],
   "source": [
    "display(plot1)"
   ]
  },
  {
   "cell_type": "code",
   "execution_count": null,
   "metadata": {},
   "outputs": [],
   "source": [
    "plotFig = go.FigureWidget(data=data, layout=layout)\n",
    "display(plotFig)"
   ]
  },
  {
   "cell_type": "code",
   "execution_count": null,
   "metadata": {},
   "outputs": [],
   "source": [
    "# burnInYears = 4\n",
    "# binDays = 1\n",
    "\n",
    "# df = rb.subsetDF\n",
    "# df = df[['day', 'run', 'CLEAR']]\n",
    "# df = df[df['day'] > burnInYears*365]\n",
    "# processedDF = df.groupby(['run', 'day']).sum().reset_index() #sums valKey across tiers/groupKey e.g. \"all people who are CLEAR in all tiers\"\n",
    "# processedDF = processedDF.groupby(['run', (processedDF['day'].rename(columns={'day': 'renamed'})-(processedDF['day'].rename(columns={'day': 'renamed'}).min()%binDays)) // binDays]).mean()#.reset_index()#drop=True)#.groupby('day')  # (split by run/instance still) mean value across every X days\n",
    "# #     processedDF = df.groupby(['run', 'day'])  #Need to examine this grouping -- not fucntioning correctly\n",
    "# print(processedDF['day'].unique())\n",
    "\n",
    "# print(processedDF)\n",
    "\n",
    "# processedDF = processedDF.groupby(['day'])  #Need to examine this grouping -- not fucntioning correctly\n",
    "# print(processedDF)\n",
    "\n",
    "# #now, can get median, Q1, Q3 as follows:\n",
    "# medianDF = processedDF.median().reset_index()\n",
    "# quartile1DF = processedDF.quantile(0.25).reset_index()\n",
    "# quartile3DF = processedDF.quantile(0.75).reset_index()\n",
    "\n",
    "# print(medianDF)\n",
    "# x = medianDF['day']\n",
    "# y_md = medianDF[valKey]        \n",
    "# y_lo = quartile1DF[valKey]\n",
    "# y_hi = quartile3DF[valKey]"
   ]
  },
  {
   "cell_type": "code",
   "execution_count": null,
   "metadata": {},
   "outputs": [],
   "source": [
    "# tracelist = [trace1, trace2]\n",
    "# df = subsetDF\n",
    "# groupKey = 'tier'\n",
    "# groupVal = 'NURSING'\n",
    "# valKey = 'CLEAR'\n",
    "# burnInYears = 4\n",
    "# binDays=1\n",
    "# df = df[[groupKey, valKey, 'day', 'abbrev']]\n",
    "# df = df[df['day'] > burnInYears*365]\n",
    "# # print(df)\n",
    "\n",
    "# for i in ['ALDE_5831_S', 'ALDE_6120_S', 'ALDE_803_S', 'ALDE_820_V', 'ALDE_BOX_S']:\n",
    "#     df_i = df[df['abbrev']==i]\n",
    "#     scen1medianDF = df_i.groupby([groupKey, 'day']).mean().reset_index()\n",
    "#     scen1medianDF = scen1medianDF.groupby([groupKey, scen1medianDF.index // binDays]).mean()\n",
    "#     x = scen1medianDF.groupby(groupKey).get_group(groupVal)['day']\n",
    "#     x_rev = x[::-1]\n",
    "#     y_md = scen1medianDF.groupby(groupKey).get_group(groupVal)[valKey]\n",
    "#     trace_md = go.Scatter(\n",
    "#         x = x.values,\n",
    "#         y = y_md.values,\n",
    "#         line = dict(color='rgb(100,100,100)'),\n",
    "#         mode = 'lines',\n",
    "#         name = i,\n",
    "#     )\n",
    "#     tracelist.append(trace_md)"
   ]
  },
  {
   "cell_type": "code",
   "execution_count": null,
   "metadata": {},
   "outputs": [],
   "source": [
    "217206/(5*(2921-1825))"
   ]
  },
  {
   "cell_type": "code",
   "execution_count": null,
   "metadata": {},
   "outputs": [],
   "source": [
    "data = [trace1, trace2]#, trace3, trace4]\n",
    "# data = tracelist\n",
    "\n",
    "# updatemenus = list([\n",
    "#     dict(type=\"buttons\",\n",
    "#          active=-1,\n",
    "#          buttons=list([   \n",
    "#             dict(label = 'HOSP',\n",
    "#                  method = 'update',\n",
    "#                  args = [{'visible': [True, True, False, False]},\n",
    "#                          ]),\n",
    "#             dict(label = 'NURSING',\n",
    "#                  method = 'update',\n",
    "#                  args = [{'visible': [False, False, True, True]},\n",
    "#                          ]),\n",
    "#             dict(label = 'Both',\n",
    "#                  method = 'update',\n",
    "#                  args = [{'visible': [True, True, True, True]},\n",
    "#                         ]),\n",
    "#          ]))\n",
    "# ])\n",
    "         \n",
    "\n",
    "layout = go.Layout(\n",
    "    paper_bgcolor='rgb(255,255,255)',\n",
    "    plot_bgcolor='rgb(229,229,229)',\n",
    "    xaxis=dict(\n",
    "        gridcolor='rgb(255,255,255)',\n",
    "        range=x_range,\n",
    "        showgrid=True,\n",
    "        showline=False,\n",
    "        showticklabels=True,\n",
    "        tickcolor='rgb(127,127,127)',\n",
    "        ticks='outside',\n",
    "        zeroline=False\n",
    "    ),\n",
    "    yaxis=dict(\n",
    "        gridcolor='rgb(255,255,255)',\n",
    "        showgrid=True,\n",
    "        showline=False,\n",
    "        showticklabels=True,\n",
    "        tickcolor='rgb(127,127,127)',\n",
    "        ticks='outside',\n",
    "        zeroline=False\n",
    "    ),\n",
    "#     updatemenus=updatemenus\n",
    ")\n",
    "\n",
    "# IPython notebook\n",
    "fig = go.Figure(data=data, layout=layout)\n",
    "py.iplot(fig, filename='basic-line-plot')\n",
    "\n",
    "# url = py.plot(data, filename='basic-line-plot')"
   ]
  },
  {
   "cell_type": "code",
   "execution_count": null,
   "metadata": {},
   "outputs": [],
   "source": [
    "min(trace2['x'])-max(trace2['x'])\n",
    "len(trace2['x'])"
   ]
  },
  {
   "cell_type": "code",
   "execution_count": null,
   "metadata": {
    "scrolled": true
   },
   "outputs": [],
   "source": [
    "rb.subsetDF[rb.subsetDF['day']==2031]"
   ]
  },
  {
   "cell_type": "code",
   "execution_count": null,
   "metadata": {},
   "outputs": [],
   "source": [
    "fullDF"
   ]
  },
  {
   "cell_type": "code",
   "execution_count": null,
   "metadata": {},
   "outputs": [],
   "source": [
    "fullDF.loc[fullDF['abbrev'].isin(['THC_6130_L'])]"
   ]
  },
  {
   "cell_type": "code",
   "execution_count": null,
   "metadata": {
    "scrolled": true
   },
   "outputs": [],
   "source": [
    "advDF = fullDF[fullDF['abbrev']=='THC_6130_L']\n",
    "advDF[advDF['day']==2031]"
   ]
  },
  {
   "cell_type": "code",
   "execution_count": null,
   "metadata": {
    "scrolled": true
   },
   "outputs": [],
   "source": [
    "sliceDF = advDF[['day', 'tier', 'COLONIZED', 'run']] #THC_6130_L\n",
    "sliceDF[sliceDF['day']==2036].dropna(axis=0)"
   ]
  },
  {
   "cell_type": "code",
   "execution_count": null,
   "metadata": {},
   "outputs": [],
   "source": [
    "hospcheck = widgets.Checkbox(\n",
    "    value=False,\n",
    "    description='HOSP',\n",
    "    disabled=False\n",
    ")\n",
    "display(hospcheck)"
   ]
  },
  {
   "cell_type": "code",
   "execution_count": null,
   "metadata": {},
   "outputs": [],
   "source": [
    "hospcheck.value"
   ]
  },
  {
   "cell_type": "code",
   "execution_count": null,
   "metadata": {},
   "outputs": [],
   "source": [
    "for i in facCheck:\n",
    "    print(facCheck[i].value)"
   ]
  },
  {
   "cell_type": "code",
   "execution_count": null,
   "metadata": {},
   "outputs": [],
   "source": [
    "for i in checkList:\n",
    "    display(i)"
   ]
  },
  {
   "cell_type": "code",
   "execution_count": null,
   "metadata": {},
   "outputs": [],
   "source": [
    "print(facArray[np.array([i.value for i in checkList])])"
   ]
  },
  {
   "cell_type": "code",
   "execution_count": null,
   "metadata": {},
   "outputs": [],
   "source": [
    "np.array([True, False])"
   ]
  },
  {
   "cell_type": "code",
   "execution_count": null,
   "metadata": {},
   "outputs": [],
   "source": [
    "# tierSelect=widgets.SelectMultiple(\n",
    "#     options=fullTierList,\n",
    "#     value=[],\n",
    "#     rows=6,\n",
    "#     description='Tier selection',\n",
    "#     disabled=False\n",
    "# )\n",
    "# display(tierSelect)"
   ]
  },
  {
   "cell_type": "code",
   "execution_count": null,
   "metadata": {},
   "outputs": [],
   "source": [
    "list(b.value)"
   ]
  },
  {
   "cell_type": "code",
   "execution_count": null,
   "metadata": {},
   "outputs": [],
   "source": [
    "fullAbbrevList"
   ]
  },
  {
   "cell_type": "code",
   "execution_count": null,
   "metadata": {},
   "outputs": [],
   "source": [
    "facListInput.value.replace(\"'\",\"\").strip().split(',')"
   ]
  },
  {
   "cell_type": "code",
   "execution_count": null,
   "metadata": {},
   "outputs": [],
   "source": [
    "binDayInput = widgets.IntText(\n",
    "    value=1,\n",
    "    description='Bin (days):',\n",
    "    disabled=False\n",
    ")\n",
    "display(binDayInput)"
   ]
  },
  {
   "cell_type": "code",
   "execution_count": null,
   "metadata": {},
   "outputs": [],
   "source": [
    "tab_names = ['Checklist', 'Text input']\n",
    "children = [b, a]\n",
    "tab = widgets.Tab()\n",
    "tab.children = children\n",
    "for i in range(len(tab_names)):\n",
    "    tab.set_title(i, str(i))\n",
    "tab"
   ]
  },
  {
   "cell_type": "code",
   "execution_count": null,
   "metadata": {},
   "outputs": [],
   "source": [
    "recalcButton = widgets.Button(description=\"Recalculate\")\n",
    "display(recalcButton)\n",
    "\n",
    "def on_button_clicked(b):\n",
    "    print(\"Button clicked.\")\n",
    "\n",
    "recalcButton.on_click(on_button_clicked)"
   ]
  },
  {
   "cell_type": "code",
   "execution_count": null,
   "metadata": {},
   "outputs": [],
   "source": [
    "plotButton = widgets.Button(description=\"Plot\")\n",
    "display(plotButton)\n",
    "def plot_on_click(b):\n",
    "    data = tracelist\n",
    "    fig = go.Figure(data=data, layout=layout)\n",
    "    py.iplot(fig, filename='RHEA-plot')"
   ]
  }
 ],
 "metadata": {
  "kernelspec": {
   "display_name": "Python 3",
   "language": "python",
   "name": "python3"
  },
  "language_info": {
   "codemirror_mode": {
    "name": "ipython",
    "version": 3
   },
   "file_extension": ".py",
   "mimetype": "text/x-python",
   "name": "python",
   "nbconvert_exporter": "python",
   "pygments_lexer": "ipython3",
   "version": "3.6.1"
  }
 },
 "nbformat": 4,
 "nbformat_minor": 1
}
